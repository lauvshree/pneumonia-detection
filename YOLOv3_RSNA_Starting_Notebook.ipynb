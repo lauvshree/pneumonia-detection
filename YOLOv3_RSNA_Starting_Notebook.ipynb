{
  "nbformat": 4,
  "nbformat_minor": 0,
  "metadata": {
    "kernelspec": {
      "name": "python3",
      "display_name": "Python 3"
    },
    "language_info": {
      "name": "python",
      "version": "3.6.6",
      "mimetype": "text/x-python",
      "codemirror_mode": {
        "name": "ipython",
        "version": 3
      },
      "pygments_lexer": "ipython3",
      "nbconvert_exporter": "python",
      "file_extension": ".py"
    },
    "colab": {
      "name": "YOLOv3-RSNA Starting Notebook.ipynb",
      "provenance": [],
      "collapsed_sections": [],
      "include_colab_link": true
    },
    "accelerator": "GPU"
  },
  "cells": [
    {
      "cell_type": "markdown",
      "metadata": {
        "id": "view-in-github",
        "colab_type": "text"
      },
      "source": [
        "<a href=\"https://colab.research.google.com/github/lauvshree/pneumonia-detection/blob/master/YOLOv3_RSNA_Starting_Notebook.ipynb\" target=\"_parent\"><img src=\"https://colab.research.google.com/assets/colab-badge.svg\" alt=\"Open In Colab\"/></a>"
      ]
    },
    {
      "cell_type": "markdown",
      "metadata": {
        "id": "ULSc8s_Zudyy",
        "colab_type": "text"
      },
      "source": [
        "#Initital set up for building the model"
      ]
    },
    {
      "cell_type": "code",
      "metadata": {
        "trusted": true,
        "_uuid": "ce28f29df7b9f64725998f8133be50068c53cb69",
        "id": "cY-_Yszg6UMp",
        "colab_type": "code",
        "colab": {}
      },
      "source": [
        "import math\n",
        "import os\n",
        "import shutil\n",
        "import sys\n",
        "\n",
        "import numpy as np\n",
        "import pandas as pd\n",
        "import matplotlib.pyplot as plt\n",
        "import glob\n",
        "import cv2\n",
        "from sklearn.model_selection import train_test_split\n"
      ],
      "execution_count": 0,
      "outputs": []
    },
    {
      "cell_type": "code",
      "metadata": {
        "trusted": true,
        "_uuid": "c4b33affdc049734daa58852c4ed06e37c344063",
        "id": "-NK08u666UMs",
        "colab_type": "code",
        "colab": {}
      },
      "source": [
        "random_stat = 123\n",
        "np.random.seed(random_stat)"
      ],
      "execution_count": 0,
      "outputs": []
    },
    {
      "cell_type": "code",
      "metadata": {
        "id": "BrIJirCX66lp",
        "colab_type": "code",
        "outputId": "2e7c3fce-2708-474f-a4c2-2b0e9f5cc7f1",
        "colab": {
          "base_uri": "https://localhost:8080/",
          "height": 51
        }
      },
      "source": [
        "%tensorflow_version 2.x\n",
        "import tensorflow\n",
        "print(tensorflow.__version__)"
      ],
      "execution_count": 0,
      "outputs": [
        {
          "output_type": "stream",
          "text": [
            "TensorFlow 2.x selected.\n",
            "2.1.0\n"
          ],
          "name": "stdout"
        }
      ]
    },
    {
      "cell_type": "code",
      "metadata": {
        "id": "288HjH0_TFHn",
        "colab_type": "code",
        "outputId": "9231378e-efcb-4c49-88df-25e02086c42d",
        "colab": {
          "base_uri": "https://localhost:8080/",
          "height": 122
        }
      },
      "source": [
        "from google.colab import drive\n",
        "drive.mount('/content/gdrive/',force_remount=True)"
      ],
      "execution_count": 0,
      "outputs": [
        {
          "output_type": "stream",
          "text": [
            "Go to this URL in a browser: https://accounts.google.com/o/oauth2/auth?client_id=947318989803-6bn6qk8qdgf4n4g3pfee6491hc0brc4i.apps.googleusercontent.com&redirect_uri=urn%3aietf%3awg%3aoauth%3a2.0%3aoob&response_type=code&scope=email%20https%3a%2f%2fwww.googleapis.com%2fauth%2fdocs.test%20https%3a%2f%2fwww.googleapis.com%2fauth%2fdrive%20https%3a%2f%2fwww.googleapis.com%2fauth%2fdrive.photos.readonly%20https%3a%2f%2fwww.googleapis.com%2fauth%2fpeopleapi.readonly\n",
            "\n",
            "Enter your authorization code:\n",
            "··········\n",
            "Mounted at /content/gdrive/\n"
          ],
          "name": "stdout"
        }
      ]
    },
    {
      "cell_type": "markdown",
      "metadata": {
        "_uuid": "5702330ac23995099c3f184ef0424731d91a303c",
        "id": "q4ADVjXT6UMz",
        "colab_type": "text"
      },
      "source": [
        "## 2. Data Migration for YOLOv3\n",
        "\n",
        "### 2.0. Make subdirectories"
      ]
    },
    {
      "cell_type": "code",
      "metadata": {
        "trusted": true,
        "_uuid": "55f5d67ac085afcc445db23227ba60748eb269fa",
        "id": "eiofF2Do6UM0",
        "colab_type": "code",
        "colab": {}
      },
      "source": [
        "project_path = \"/content/gdrive/My Drive/Colab Notebooks/Capstone Project/\"\n",
        "data_path = \"/content/gdrive/My Drive/Colab Notebooks/Capstone Project/data/\"\n",
        "images_path = \"/content/gdrive/My Drive/Colab Notebooks/Capstone Project/data/training_images/\"\n",
        "\n",
        "\n",
        "img_dir = data_path+ \"training_images\"  # .jpg\n",
        "label_dir = data_path+ \"training_labels\"  # .txt\n",
        "metadata_dir = data_path+ \"cfg\" # .txt\n",
        "\n",
        "cfg_dir = data_path + \"cfg\"\n",
        "#To save the model checkpoints\n",
        "backup_dir = data_path + \"backup\"\n",
        "\n",
        "\n",
        "# We are using the image dir we generated in the EDA. The other directories will have to be created if they don't exist\n",
        "for directory in [label_dir, metadata_dir, cfg_dir, backup_dir]:\n",
        "    if os.path.isdir(directory):\n",
        "        continue\n",
        "    os.mkdir(directory)"
      ],
      "execution_count": 0,
      "outputs": []
    },
    {
      "cell_type": "markdown",
      "metadata": {
        "_uuid": "ba6a35b97d0a42060e6fdd68a6da23454aa40568",
        "id": "Br6jNtGI6UM7",
        "colab_type": "text"
      },
      "source": [
        "### 2.1. Load patient_data.csv"
      ]
    },
    {
      "cell_type": "code",
      "metadata": {
        "trusted": true,
        "_uuid": "e242b29961c22433703e442a84572783b9459de9",
        "id": "JoS9mhlQ6UM8",
        "colab_type": "code",
        "outputId": "ef6e00d3-a97a-4740-8767-049d61de083a",
        "colab": {
          "base_uri": "https://localhost:8080/",
          "height": 496
        }
      },
      "source": [
        "#The CSV has generated as a part of the EDA has details of the bounding boxes as may be applicable. \n",
        "patient_data = pd.read_csv(os.path.join(data_path, \"patients_data.csv\"))\n",
        "patient_data.head()"
      ],
      "execution_count": 0,
      "outputs": [
        {
          "output_type": "execute_result",
          "data": {
            "text/html": [
              "<div>\n",
              "<style scoped>\n",
              "    .dataframe tbody tr th:only-of-type {\n",
              "        vertical-align: middle;\n",
              "    }\n",
              "\n",
              "    .dataframe tbody tr th {\n",
              "        vertical-align: top;\n",
              "    }\n",
              "\n",
              "    .dataframe thead th {\n",
              "        text-align: right;\n",
              "    }\n",
              "</style>\n",
              "<table border=\"1\" class=\"dataframe\">\n",
              "  <thead>\n",
              "    <tr style=\"text-align: right;\">\n",
              "      <th></th>\n",
              "      <th>Unnamed: 0</th>\n",
              "      <th>patientId</th>\n",
              "      <th>x</th>\n",
              "      <th>y</th>\n",
              "      <th>width</th>\n",
              "      <th>height</th>\n",
              "      <th>Target</th>\n",
              "      <th>Image</th>\n",
              "      <th>Modality</th>\n",
              "      <th>PatientAge</th>\n",
              "      <th>PatientSex</th>\n",
              "      <th>BodyPartExamined</th>\n",
              "      <th>ViewPosition</th>\n",
              "      <th>ConversionType</th>\n",
              "      <th>Rows</th>\n",
              "      <th>Columns</th>\n",
              "      <th>PixelSpacing</th>\n",
              "    </tr>\n",
              "  </thead>\n",
              "  <tbody>\n",
              "    <tr>\n",
              "      <th>0</th>\n",
              "      <td>0</td>\n",
              "      <td>0004cfab-14fd-4e49-80ba-63a80b6bddd6</td>\n",
              "      <td>NaN</td>\n",
              "      <td>NaN</td>\n",
              "      <td>NaN</td>\n",
              "      <td>NaN</td>\n",
              "      <td>0</td>\n",
              "      <td>NaN</td>\n",
              "      <td>NaN</td>\n",
              "      <td>NaN</td>\n",
              "      <td>NaN</td>\n",
              "      <td>NaN</td>\n",
              "      <td>NaN</td>\n",
              "      <td>NaN</td>\n",
              "      <td>NaN</td>\n",
              "      <td>NaN</td>\n",
              "      <td>NaN</td>\n",
              "    </tr>\n",
              "    <tr>\n",
              "      <th>1</th>\n",
              "      <td>1</td>\n",
              "      <td>00313ee0-9eaa-42f4-b0ab-c148ed3241cd</td>\n",
              "      <td>NaN</td>\n",
              "      <td>NaN</td>\n",
              "      <td>NaN</td>\n",
              "      <td>NaN</td>\n",
              "      <td>0</td>\n",
              "      <td>NaN</td>\n",
              "      <td>NaN</td>\n",
              "      <td>NaN</td>\n",
              "      <td>NaN</td>\n",
              "      <td>NaN</td>\n",
              "      <td>NaN</td>\n",
              "      <td>NaN</td>\n",
              "      <td>NaN</td>\n",
              "      <td>NaN</td>\n",
              "      <td>NaN</td>\n",
              "    </tr>\n",
              "    <tr>\n",
              "      <th>2</th>\n",
              "      <td>2</td>\n",
              "      <td>00322d4d-1c29-4943-afc9-b6754be640eb</td>\n",
              "      <td>NaN</td>\n",
              "      <td>NaN</td>\n",
              "      <td>NaN</td>\n",
              "      <td>NaN</td>\n",
              "      <td>0</td>\n",
              "      <td>/content/gdrive/My Drive/Colab Notebooks/Capst...</td>\n",
              "      <td>CR</td>\n",
              "      <td>19.0</td>\n",
              "      <td>M</td>\n",
              "      <td>CHEST</td>\n",
              "      <td>AP</td>\n",
              "      <td>WSD</td>\n",
              "      <td>1024.0</td>\n",
              "      <td>1024.0</td>\n",
              "      <td>0.168</td>\n",
              "    </tr>\n",
              "    <tr>\n",
              "      <th>3</th>\n",
              "      <td>3</td>\n",
              "      <td>003d8fa0-6bf1-40ed-b54c-ac657f8495c5</td>\n",
              "      <td>NaN</td>\n",
              "      <td>NaN</td>\n",
              "      <td>NaN</td>\n",
              "      <td>NaN</td>\n",
              "      <td>0</td>\n",
              "      <td>/content/gdrive/My Drive/Colab Notebooks/Capst...</td>\n",
              "      <td>CR</td>\n",
              "      <td>28.0</td>\n",
              "      <td>M</td>\n",
              "      <td>CHEST</td>\n",
              "      <td>PA</td>\n",
              "      <td>WSD</td>\n",
              "      <td>1024.0</td>\n",
              "      <td>1024.0</td>\n",
              "      <td>0.143</td>\n",
              "    </tr>\n",
              "    <tr>\n",
              "      <th>4</th>\n",
              "      <td>4</td>\n",
              "      <td>00436515-870c-4b36-a041-de91049b9ab4</td>\n",
              "      <td>264.0</td>\n",
              "      <td>152.0</td>\n",
              "      <td>213.0</td>\n",
              "      <td>379.0</td>\n",
              "      <td>1</td>\n",
              "      <td>/content/gdrive/My Drive/Colab Notebooks/Capst...</td>\n",
              "      <td>CR</td>\n",
              "      <td>32.0</td>\n",
              "      <td>F</td>\n",
              "      <td>CHEST</td>\n",
              "      <td>AP</td>\n",
              "      <td>WSD</td>\n",
              "      <td>1024.0</td>\n",
              "      <td>1024.0</td>\n",
              "      <td>0.139</td>\n",
              "    </tr>\n",
              "  </tbody>\n",
              "</table>\n",
              "</div>"
            ],
            "text/plain": [
              "   Unnamed: 0                             patientId  ...  Columns  PixelSpacing\n",
              "0           0  0004cfab-14fd-4e49-80ba-63a80b6bddd6  ...      NaN           NaN\n",
              "1           1  00313ee0-9eaa-42f4-b0ab-c148ed3241cd  ...      NaN           NaN\n",
              "2           2  00322d4d-1c29-4943-afc9-b6754be640eb  ...   1024.0         0.168\n",
              "3           3  003d8fa0-6bf1-40ed-b54c-ac657f8495c5  ...   1024.0         0.143\n",
              "4           4  00436515-870c-4b36-a041-de91049b9ab4  ...   1024.0         0.139\n",
              "\n",
              "[5 rows x 17 columns]"
            ]
          },
          "metadata": {
            "tags": []
          },
          "execution_count": 6
        }
      ]
    },
    {
      "cell_type": "markdown",
      "metadata": {
        "_uuid": "9b26d929bb119deca558ac983a5ce4e95fe9b7cc",
        "id": "es4SUPmY6UM-",
        "colab_type": "text"
      },
      "source": [
        "### 2.2. Generate image details for training YOLO\n",
        "* YOLO needs .txt file for each image, which contains bounding boxes in the image that looks like:\n",
        "```\n",
        "<object-class_1> <x_1> <y_1> <width_1> <height_1>\n",
        "<object-class_2> <x_2> <y_2> <width_2> <height_2>\n",
        "```\n",
        "* <object-class\\>: Since RSNA task is binary classification basically, <object-class\\> is 1 as we are going to train on the images with Pneumonia.\n",
        "* <x\\>, <y\\>: Those are float values of bbox center coordinate, divided by image width and height respectively.\n",
        "* <w\\>, <h\\>: Those are width and height of bbox, divided by image width and height respectively.\n"
      ]
    },
    {
      "cell_type": "code",
      "metadata": {
        "id": "Ygp1iJL_ZNOv",
        "colab_type": "code",
        "colab": {}
      },
      "source": [
        "\n",
        "def save_yolo_input_txt():\n",
        "    # rsna defualt image size\n",
        "    img_size = 1024\n",
        "    pneumonia_patients = patient_data[patient_data.Target == 1]\n",
        "    for index,row in pneumonia_patients.iterrows():\n",
        "      label_fp = os.path.join(label_dir, \"{}.txt\".format(row['patientId']))\n",
        "      f = open(label_fp, \"a\")\n",
        "      top_left_x = row['x']\n",
        "      top_left_y = row['y']\n",
        "      w = row['width']\n",
        "      h = row['height']\n",
        "      \n",
        "      rx = top_left_x/img_size\n",
        "      ry = top_left_y/img_size\n",
        "      rw = w/img_size\n",
        "      rh = h/img_size\n",
        "      rcx = rx+rw/2\n",
        "      rcy = ry+rh/2\n",
        "      \n",
        "      line = \"{} {} {} {} {}\\n\".format(0, rcx, rcy, rw, rh)\n",
        "      \n",
        "      f.write(line)\n",
        "      f.flush()\n",
        "      f.close()\n"
      ],
      "execution_count": 0,
      "outputs": []
    },
    {
      "cell_type": "code",
      "metadata": {
        "trusted": true,
        "_uuid": "1e907f30b11bf6956884061138d615bee60c2a15",
        "id": "sMNR1MWa6UNB",
        "colab_type": "code",
        "colab": {}
      },
      "source": [
        "#Uncomment this line to generate the YOLO input. This need not be done everytime you run the notebook.\n",
        "# save_yolo_input_txt()"
      ],
      "execution_count": 0,
      "outputs": []
    },
    {
      "cell_type": "markdown",
      "metadata": {
        "_uuid": "17868a4d327c2e22adae76cc7ce163c5546e1743",
        "id": "BA35x-Em6UNF",
        "colab_type": "text"
      },
      "source": [
        "### 2.3. Plot a sample train image and label"
      ]
    },
    {
      "cell_type": "code",
      "metadata": {
        "trusted": true,
        "_uuid": "8ebf845a4f3b51555991292d10ddc272b226bf7c",
        "id": "EBKbaT0z6UNG",
        "colab_type": "code",
        "colab": {}
      },
      "source": [
        "#Take a patiend id where target is 1 and show it with the bounding boxes\n",
        "\n",
        "ex_patient_id = patient_data[patient_data.Target == 1].sample(1)\n",
        "for index,row in ex_patient_id.iterrows():\n",
        "  ex_patient_id = row['patientId']\n",
        "print(ex_patient_id)\n",
        "ex_img_path = \"/content/gdrive/My Drive/Colab Notebooks/Capstone Project/data/training_images/\"+ex_patient_id+\".jpg\"\n",
        "ex_label_path = \"/content/gdrive/My Drive/Colab Notebooks/Capstone Project/data/training_labels/\"+ex_patient_id+\".txt\"\n",
        "\n"
      ],
      "execution_count": 0,
      "outputs": []
    },
    {
      "cell_type": "code",
      "metadata": {
        "id": "_AR2nOhOlc5W",
        "colab_type": "code",
        "colab": {}
      },
      "source": [
        "img_size = 1014\n",
        "print(ex_img_path)\n",
        "plt.imshow(cv2.imread(ex_img_path))\n",
        "\n",
        "with open(ex_label_path, \"r\") as f:\n",
        "    for line in f:\n",
        "        print(line)\n",
        "        class_id, rcx, rcy, rw, rh = list(map(float, line.strip().split()))\n",
        "        x = (rcx-rw/2)*img_size\n",
        "        y = (rcy-rh/2)*img_size\n",
        "        w = rw*img_size\n",
        "        h = rh*img_size\n",
        "        plt.plot([x, x, x+w, x+w, x], [y, y+h, y+h, y, y])"
      ],
      "execution_count": 0,
      "outputs": []
    },
    {
      "cell_type": "markdown",
      "metadata": {
        "id": "lArMMLQNvTMP",
        "colab_type": "text"
      },
      "source": [
        "#Git Clone the Darknet YOLO model"
      ]
    },
    {
      "cell_type": "code",
      "metadata": {
        "id": "b39xKSMnBXyQ",
        "colab_type": "code",
        "outputId": "dec0cece-c1e0-4db7-e7f9-61ac6b1bd4e3",
        "colab": {
          "base_uri": "https://localhost:8080/",
          "height": 34
        }
      },
      "source": [
        "#For the following command to be run, you must have cloned darknet from git repo and run a make. \n",
        "\n",
        "darknet_dir = '/content/gdrive/My Drive/Colab Notebooks/Capstone Project/darknet'\n",
        "os.chdir(\"/content/gdrive/My Drive/Colab Notebooks/Capstone Project/\")\n",
        "if os.path.exists(darknet_dir) == False :\n",
        "  !git clone https://github.com/pjreddie/darknet\n",
        "  os.chdir(darknet_dir)\n",
        "else:\n",
        "  os.chdir(darknet_dir)\n",
        "  !git pull\n",
        "\n"
      ],
      "execution_count": 0,
      "outputs": [
        {
          "output_type": "stream",
          "text": [
            "Already up to date.\n"
          ],
          "name": "stdout"
        }
      ]
    },
    {
      "cell_type": "code",
      "metadata": {
        "id": "ZlpT4fGRhCiK",
        "colab_type": "code",
        "outputId": "c2841cb4-4e48-4f7b-a19f-8e0c62e60ee9",
        "colab": {
          "base_uri": "https://localhost:8080/",
          "height": 1000
        }
      },
      "source": [
        "#The darknet directory has to run `make -B` (-B option runs make even if the directory has already run it once) everytime the kernel restarts\n",
        "os.chdir(darknet_dir)\n",
        "!make -B\n"
      ],
      "execution_count": 0,
      "outputs": [
        {
          "output_type": "stream",
          "text": [
            "mkdir -p obj\n",
            "mkdir -p backup\n",
            "mkdir -p results\n",
            "gcc -Iinclude/ -Isrc/ -Wall -Wno-unused-result -Wno-unknown-pragmas -Wfatal-errors -fPIC -Ofast -c ./src/gemm.c -o obj/gemm.o\n",
            "gcc -Iinclude/ -Isrc/ -Wall -Wno-unused-result -Wno-unknown-pragmas -Wfatal-errors -fPIC -Ofast -c ./src/utils.c -o obj/utils.o\n",
            "gcc -Iinclude/ -Isrc/ -Wall -Wno-unused-result -Wno-unknown-pragmas -Wfatal-errors -fPIC -Ofast -c ./src/cuda.c -o obj/cuda.o\n",
            "gcc -Iinclude/ -Isrc/ -Wall -Wno-unused-result -Wno-unknown-pragmas -Wfatal-errors -fPIC -Ofast -c ./src/deconvolutional_layer.c -o obj/deconvolutional_layer.o\n",
            "gcc -Iinclude/ -Isrc/ -Wall -Wno-unused-result -Wno-unknown-pragmas -Wfatal-errors -fPIC -Ofast -c ./src/convolutional_layer.c -o obj/convolutional_layer.o\n",
            "gcc -Iinclude/ -Isrc/ -Wall -Wno-unused-result -Wno-unknown-pragmas -Wfatal-errors -fPIC -Ofast -c ./src/list.c -o obj/list.o\n",
            "gcc -Iinclude/ -Isrc/ -Wall -Wno-unused-result -Wno-unknown-pragmas -Wfatal-errors -fPIC -Ofast -c ./src/image.c -o obj/image.o\n",
            "gcc -Iinclude/ -Isrc/ -Wall -Wno-unused-result -Wno-unknown-pragmas -Wfatal-errors -fPIC -Ofast -c ./src/activations.c -o obj/activations.o\n",
            "gcc -Iinclude/ -Isrc/ -Wall -Wno-unused-result -Wno-unknown-pragmas -Wfatal-errors -fPIC -Ofast -c ./src/im2col.c -o obj/im2col.o\n",
            "gcc -Iinclude/ -Isrc/ -Wall -Wno-unused-result -Wno-unknown-pragmas -Wfatal-errors -fPIC -Ofast -c ./src/col2im.c -o obj/col2im.o\n",
            "gcc -Iinclude/ -Isrc/ -Wall -Wno-unused-result -Wno-unknown-pragmas -Wfatal-errors -fPIC -Ofast -c ./src/blas.c -o obj/blas.o\n",
            "gcc -Iinclude/ -Isrc/ -Wall -Wno-unused-result -Wno-unknown-pragmas -Wfatal-errors -fPIC -Ofast -c ./src/crop_layer.c -o obj/crop_layer.o\n",
            "gcc -Iinclude/ -Isrc/ -Wall -Wno-unused-result -Wno-unknown-pragmas -Wfatal-errors -fPIC -Ofast -c ./src/dropout_layer.c -o obj/dropout_layer.o\n",
            "gcc -Iinclude/ -Isrc/ -Wall -Wno-unused-result -Wno-unknown-pragmas -Wfatal-errors -fPIC -Ofast -c ./src/maxpool_layer.c -o obj/maxpool_layer.o\n",
            "gcc -Iinclude/ -Isrc/ -Wall -Wno-unused-result -Wno-unknown-pragmas -Wfatal-errors -fPIC -Ofast -c ./src/softmax_layer.c -o obj/softmax_layer.o\n",
            "gcc -Iinclude/ -Isrc/ -Wall -Wno-unused-result -Wno-unknown-pragmas -Wfatal-errors -fPIC -Ofast -c ./src/data.c -o obj/data.o\n",
            "gcc -Iinclude/ -Isrc/ -Wall -Wno-unused-result -Wno-unknown-pragmas -Wfatal-errors -fPIC -Ofast -c ./src/matrix.c -o obj/matrix.o\n",
            "gcc -Iinclude/ -Isrc/ -Wall -Wno-unused-result -Wno-unknown-pragmas -Wfatal-errors -fPIC -Ofast -c ./src/network.c -o obj/network.o\n",
            "gcc -Iinclude/ -Isrc/ -Wall -Wno-unused-result -Wno-unknown-pragmas -Wfatal-errors -fPIC -Ofast -c ./src/connected_layer.c -o obj/connected_layer.o\n",
            "gcc -Iinclude/ -Isrc/ -Wall -Wno-unused-result -Wno-unknown-pragmas -Wfatal-errors -fPIC -Ofast -c ./src/cost_layer.c -o obj/cost_layer.o\n",
            "gcc -Iinclude/ -Isrc/ -Wall -Wno-unused-result -Wno-unknown-pragmas -Wfatal-errors -fPIC -Ofast -c ./src/parser.c -o obj/parser.o\n",
            "gcc -Iinclude/ -Isrc/ -Wall -Wno-unused-result -Wno-unknown-pragmas -Wfatal-errors -fPIC -Ofast -c ./src/option_list.c -o obj/option_list.o\n",
            "gcc -Iinclude/ -Isrc/ -Wall -Wno-unused-result -Wno-unknown-pragmas -Wfatal-errors -fPIC -Ofast -c ./src/detection_layer.c -o obj/detection_layer.o\n",
            "gcc -Iinclude/ -Isrc/ -Wall -Wno-unused-result -Wno-unknown-pragmas -Wfatal-errors -fPIC -Ofast -c ./src/route_layer.c -o obj/route_layer.o\n",
            "gcc -Iinclude/ -Isrc/ -Wall -Wno-unused-result -Wno-unknown-pragmas -Wfatal-errors -fPIC -Ofast -c ./src/upsample_layer.c -o obj/upsample_layer.o\n",
            "gcc -Iinclude/ -Isrc/ -Wall -Wno-unused-result -Wno-unknown-pragmas -Wfatal-errors -fPIC -Ofast -c ./src/box.c -o obj/box.o\n",
            "gcc -Iinclude/ -Isrc/ -Wall -Wno-unused-result -Wno-unknown-pragmas -Wfatal-errors -fPIC -Ofast -c ./src/normalization_layer.c -o obj/normalization_layer.o\n",
            "gcc -Iinclude/ -Isrc/ -Wall -Wno-unused-result -Wno-unknown-pragmas -Wfatal-errors -fPIC -Ofast -c ./src/avgpool_layer.c -o obj/avgpool_layer.o\n",
            "gcc -Iinclude/ -Isrc/ -Wall -Wno-unused-result -Wno-unknown-pragmas -Wfatal-errors -fPIC -Ofast -c ./src/layer.c -o obj/layer.o\n",
            "gcc -Iinclude/ -Isrc/ -Wall -Wno-unused-result -Wno-unknown-pragmas -Wfatal-errors -fPIC -Ofast -c ./src/local_layer.c -o obj/local_layer.o\n",
            "gcc -Iinclude/ -Isrc/ -Wall -Wno-unused-result -Wno-unknown-pragmas -Wfatal-errors -fPIC -Ofast -c ./src/shortcut_layer.c -o obj/shortcut_layer.o\n",
            "gcc -Iinclude/ -Isrc/ -Wall -Wno-unused-result -Wno-unknown-pragmas -Wfatal-errors -fPIC -Ofast -c ./src/logistic_layer.c -o obj/logistic_layer.o\n",
            "gcc -Iinclude/ -Isrc/ -Wall -Wno-unused-result -Wno-unknown-pragmas -Wfatal-errors -fPIC -Ofast -c ./src/activation_layer.c -o obj/activation_layer.o\n",
            "gcc -Iinclude/ -Isrc/ -Wall -Wno-unused-result -Wno-unknown-pragmas -Wfatal-errors -fPIC -Ofast -c ./src/rnn_layer.c -o obj/rnn_layer.o\n",
            "gcc -Iinclude/ -Isrc/ -Wall -Wno-unused-result -Wno-unknown-pragmas -Wfatal-errors -fPIC -Ofast -c ./src/gru_layer.c -o obj/gru_layer.o\n",
            "gcc -Iinclude/ -Isrc/ -Wall -Wno-unused-result -Wno-unknown-pragmas -Wfatal-errors -fPIC -Ofast -c ./src/crnn_layer.c -o obj/crnn_layer.o\n",
            "gcc -Iinclude/ -Isrc/ -Wall -Wno-unused-result -Wno-unknown-pragmas -Wfatal-errors -fPIC -Ofast -c ./src/demo.c -o obj/demo.o\n",
            "gcc -Iinclude/ -Isrc/ -Wall -Wno-unused-result -Wno-unknown-pragmas -Wfatal-errors -fPIC -Ofast -c ./src/batchnorm_layer.c -o obj/batchnorm_layer.o\n",
            "gcc -Iinclude/ -Isrc/ -Wall -Wno-unused-result -Wno-unknown-pragmas -Wfatal-errors -fPIC -Ofast -c ./src/region_layer.c -o obj/region_layer.o\n",
            "gcc -Iinclude/ -Isrc/ -Wall -Wno-unused-result -Wno-unknown-pragmas -Wfatal-errors -fPIC -Ofast -c ./src/reorg_layer.c -o obj/reorg_layer.o\n",
            "gcc -Iinclude/ -Isrc/ -Wall -Wno-unused-result -Wno-unknown-pragmas -Wfatal-errors -fPIC -Ofast -c ./src/tree.c -o obj/tree.o\n",
            "gcc -Iinclude/ -Isrc/ -Wall -Wno-unused-result -Wno-unknown-pragmas -Wfatal-errors -fPIC -Ofast -c ./src/lstm_layer.c -o obj/lstm_layer.o\n",
            "gcc -Iinclude/ -Isrc/ -Wall -Wno-unused-result -Wno-unknown-pragmas -Wfatal-errors -fPIC -Ofast -c ./src/l2norm_layer.c -o obj/l2norm_layer.o\n",
            "gcc -Iinclude/ -Isrc/ -Wall -Wno-unused-result -Wno-unknown-pragmas -Wfatal-errors -fPIC -Ofast -c ./src/yolo_layer.c -o obj/yolo_layer.o\n",
            "gcc -Iinclude/ -Isrc/ -Wall -Wno-unused-result -Wno-unknown-pragmas -Wfatal-errors -fPIC -Ofast -c ./src/iseg_layer.c -o obj/iseg_layer.o\n",
            "g++ -Iinclude/ -Isrc/ -Wall -Wno-unused-result -Wno-unknown-pragmas -Wfatal-errors -fPIC -Ofast -c ./src/image_opencv.cpp -o obj/image_opencv.o\n",
            "gcc -Wall -Wno-unused-result -Wno-unknown-pragmas -Wfatal-errors -fPIC -Ofast -shared obj/gemm.o obj/utils.o obj/cuda.o obj/deconvolutional_layer.o obj/convolutional_layer.o obj/list.o obj/image.o obj/activations.o obj/im2col.o obj/col2im.o obj/blas.o obj/crop_layer.o obj/dropout_layer.o obj/maxpool_layer.o obj/softmax_layer.o obj/data.o obj/matrix.o obj/network.o obj/connected_layer.o obj/cost_layer.o obj/parser.o obj/option_list.o obj/detection_layer.o obj/route_layer.o obj/upsample_layer.o obj/box.o obj/normalization_layer.o obj/avgpool_layer.o obj/layer.o obj/local_layer.o obj/shortcut_layer.o obj/logistic_layer.o obj/activation_layer.o obj/rnn_layer.o obj/gru_layer.o obj/crnn_layer.o obj/demo.o obj/batchnorm_layer.o obj/region_layer.o obj/reorg_layer.o obj/tree.o obj/lstm_layer.o obj/l2norm_layer.o obj/yolo_layer.o obj/iseg_layer.o obj/image_opencv.o -o libdarknet.so -lm -pthread \n",
            "ar rcs libdarknet.a obj/gemm.o obj/utils.o obj/cuda.o obj/deconvolutional_layer.o obj/convolutional_layer.o obj/list.o obj/image.o obj/activations.o obj/im2col.o obj/col2im.o obj/blas.o obj/crop_layer.o obj/dropout_layer.o obj/maxpool_layer.o obj/softmax_layer.o obj/data.o obj/matrix.o obj/network.o obj/connected_layer.o obj/cost_layer.o obj/parser.o obj/option_list.o obj/detection_layer.o obj/route_layer.o obj/upsample_layer.o obj/box.o obj/normalization_layer.o obj/avgpool_layer.o obj/layer.o obj/local_layer.o obj/shortcut_layer.o obj/logistic_layer.o obj/activation_layer.o obj/rnn_layer.o obj/gru_layer.o obj/crnn_layer.o obj/demo.o obj/batchnorm_layer.o obj/region_layer.o obj/reorg_layer.o obj/tree.o obj/lstm_layer.o obj/l2norm_layer.o obj/yolo_layer.o obj/iseg_layer.o obj/image_opencv.o\n",
            "gcc -Iinclude/ -Isrc/ -Wall -Wno-unused-result -Wno-unknown-pragmas -Wfatal-errors -fPIC -Ofast -c ./examples/captcha.c -o obj/captcha.o\n",
            "gcc -Iinclude/ -Isrc/ -Wall -Wno-unused-result -Wno-unknown-pragmas -Wfatal-errors -fPIC -Ofast -c ./examples/lsd.c -o obj/lsd.o\n",
            "gcc -Iinclude/ -Isrc/ -Wall -Wno-unused-result -Wno-unknown-pragmas -Wfatal-errors -fPIC -Ofast -c ./examples/super.c -o obj/super.o\n",
            "gcc -Iinclude/ -Isrc/ -Wall -Wno-unused-result -Wno-unknown-pragmas -Wfatal-errors -fPIC -Ofast -c ./examples/art.c -o obj/art.o\n",
            "gcc -Iinclude/ -Isrc/ -Wall -Wno-unused-result -Wno-unknown-pragmas -Wfatal-errors -fPIC -Ofast -c ./examples/tag.c -o obj/tag.o\n",
            "gcc -Iinclude/ -Isrc/ -Wall -Wno-unused-result -Wno-unknown-pragmas -Wfatal-errors -fPIC -Ofast -c ./examples/cifar.c -o obj/cifar.o\n",
            "gcc -Iinclude/ -Isrc/ -Wall -Wno-unused-result -Wno-unknown-pragmas -Wfatal-errors -fPIC -Ofast -c ./examples/go.c -o obj/go.o\n",
            "gcc -Iinclude/ -Isrc/ -Wall -Wno-unused-result -Wno-unknown-pragmas -Wfatal-errors -fPIC -Ofast -c ./examples/rnn.c -o obj/rnn.o\n",
            "gcc -Iinclude/ -Isrc/ -Wall -Wno-unused-result -Wno-unknown-pragmas -Wfatal-errors -fPIC -Ofast -c ./examples/segmenter.c -o obj/segmenter.o\n",
            "gcc -Iinclude/ -Isrc/ -Wall -Wno-unused-result -Wno-unknown-pragmas -Wfatal-errors -fPIC -Ofast -c ./examples/regressor.c -o obj/regressor.o\n",
            "gcc -Iinclude/ -Isrc/ -Wall -Wno-unused-result -Wno-unknown-pragmas -Wfatal-errors -fPIC -Ofast -c ./examples/classifier.c -o obj/classifier.o\n",
            "gcc -Iinclude/ -Isrc/ -Wall -Wno-unused-result -Wno-unknown-pragmas -Wfatal-errors -fPIC -Ofast -c ./examples/coco.c -o obj/coco.o\n",
            "gcc -Iinclude/ -Isrc/ -Wall -Wno-unused-result -Wno-unknown-pragmas -Wfatal-errors -fPIC -Ofast -c ./examples/yolo.c -o obj/yolo.o\n",
            "gcc -Iinclude/ -Isrc/ -Wall -Wno-unused-result -Wno-unknown-pragmas -Wfatal-errors -fPIC -Ofast -c ./examples/detector.c -o obj/detector.o\n",
            "gcc -Iinclude/ -Isrc/ -Wall -Wno-unused-result -Wno-unknown-pragmas -Wfatal-errors -fPIC -Ofast -c ./examples/nightmare.c -o obj/nightmare.o\n",
            "gcc -Iinclude/ -Isrc/ -Wall -Wno-unused-result -Wno-unknown-pragmas -Wfatal-errors -fPIC -Ofast -c ./examples/instance-segmenter.c -o obj/instance-segmenter.o\n",
            "gcc -Iinclude/ -Isrc/ -Wall -Wno-unused-result -Wno-unknown-pragmas -Wfatal-errors -fPIC -Ofast -c ./examples/darknet.c -o obj/darknet.o\n",
            "gcc -Iinclude/ -Isrc/ -Wall -Wno-unused-result -Wno-unknown-pragmas -Wfatal-errors -fPIC -Ofast obj/captcha.o obj/lsd.o obj/super.o obj/art.o obj/tag.o obj/cifar.o obj/go.o obj/rnn.o obj/segmenter.o obj/regressor.o obj/classifier.o obj/coco.o obj/yolo.o obj/detector.o obj/nightmare.o obj/instance-segmenter.o obj/darknet.o libdarknet.a -o darknet -lm -pthread  libdarknet.a\n"
          ],
          "name": "stdout"
        }
      ]
    },
    {
      "cell_type": "markdown",
      "metadata": {
        "_uuid": "42551c1e11208ee88f9b93bea40c23dcad295b8a",
        "id": "ozEeuPIS6UNI",
        "colab_type": "text"
      },
      "source": [
        "### 2.4. Generate train/val file path list (.txt)\n",
        "* We should give the list of image paths to YOLO. two seperate list textfiles for training images and validation images."
      ]
    },
    {
      "cell_type": "code",
      "metadata": {
        "trusted": true,
        "_uuid": "d62f98b287e73a66c234c4c9f9e41503fc0d4bca",
        "id": "mC5XK_Oa6UNJ",
        "colab_type": "code",
        "colab": {}
      },
      "source": [
        "def write_train_list(metadata_dir, img_dir, name, series):\n",
        "    list_fp = os.path.join(metadata_dir, name)\n",
        "    with open(list_fp, \"w\") as f:\n",
        "        for patient_img in series:\n",
        "            line = \"{}\\n\".format(os.path.join(img_dir, patient_img))\n",
        "            f.write(line)"
      ],
      "execution_count": 0,
      "outputs": []
    },
    {
      "cell_type": "code",
      "metadata": {
        "trusted": true,
        "_uuid": "4c3982b42711fe4a20600b90ed3d123384da7096",
        "id": "bfzsE-ES6UNL",
        "colab_type": "code",
        "colab": {}
      },
      "source": [
        "patient_data_unique = patient_data[patient_data.Target == 1].patientId.drop_duplicates()\n",
        "\n",
        "patient_xray_images = patient_data_unique+\".jpg\"\n",
        "\n",
        "tr_series, val_series = train_test_split(patient_xray_images, test_size=0.1, random_state=random_stat)\n",
        "print(\"The # of train set: {}, The # of validation set: {}\".format(tr_series.shape[0], val_series.shape[0]))\n",
        "# train image path list\n",
        "write_train_list(metadata_dir, img_dir, \"tr_list.txt\", tr_series)\n",
        "# validation image path list\n",
        "write_train_list(metadata_dir, img_dir, \"val_list.txt\", val_series)"
      ],
      "execution_count": 0,
      "outputs": []
    },
    {
      "cell_type": "markdown",
      "metadata": {
        "_uuid": "8ac8f43aae2bc82599fd1bb4a66d1dd444b66a28",
        "id": "bXChiSgY6UNW",
        "colab_type": "text"
      },
      "source": [
        "## 3. Prepare Configuration Files for Using YOLOv3\n",
        "We should prepare and modify config files, and bring pre-trained weights necessary for training. Darknet need ths following files to train the model\n",
        "```\n",
        " cfg/rsna.data #Has the location of all the input files and output directories\n",
        " cfg/rsna.names #Has the number of different names that need to be identified\n",
        " darknet53.conv.74 #The weights from darknet \n",
        " cfg/rsna_yolov3.cfg_train #The config file which needs to be tuned to match our dataset\n",
        "```"
      ]
    },
    {
      "cell_type": "markdown",
      "metadata": {
        "_uuid": "72fb38e755495fca3bf456c4494c05b5300d3411",
        "id": "YkzYLQK66UNX",
        "colab_type": "text"
      },
      "source": [
        "### - cfg/rsna.data\n",
        "This file point to RSNA data path\n",
        "  * train: Path to training image list textfile\n",
        "  * valid: Path to validation image list textfile\n",
        "  * names: The file containing the possible RSNA names - This in our case is a file named rsna.names in the same directory, containing just one entry 'pneumonia' as that is the only class. \n",
        "  * backup: A directory where trained weights(checkpoints) will be stored as training progresses.\n",
        "  * results: Path to the directory where the prediction results are to be stored.\n",
        "\n",
        "Sample content of rsna.names\n",
        "```\n",
        "classes= 1\n",
        "train  = tr_list.txt\n",
        "valid  = val_list.txt\n",
        "names  = rsna.names\n",
        "eval  = rsna.names\n",
        "backup = model_backup\n",
        "results = pred_results\n",
        "```"
      ]
    },
    {
      "cell_type": "code",
      "metadata": {
        "trusted": true,
        "_uuid": "684b3e9dde58f56a746952d2934661712e417161",
        "id": "8Mj7_L4S6UNa",
        "colab_type": "code",
        "colab": {}
      },
      "source": [
        "os.chdir(cfg_dir)"
      ],
      "execution_count": 0,
      "outputs": []
    },
    {
      "cell_type": "markdown",
      "metadata": {
        "_uuid": "6415f6efcae6fca1812cb402af668428d2918e46",
        "id": "R5YGwfAn6UNf",
        "colab_type": "text"
      },
      "source": [
        "### - darknet53.conv.74  (Download Pre-trained Model)\n",
        "For training, we would download the pre-trained model weights(darknet53.conv.74) using following wget command. Alternatively, you can download it from the link used in wget command below and upload it to the relevant directory in your path. "
      ]
    },
    {
      "cell_type": "code",
      "metadata": {
        "id": "C53sjc8Y1fgn",
        "colab_type": "code",
        "colab": {}
      },
      "source": [
        "if os.path.exists(cfg_dir+\"darknet53.conv.74\") == False:\n",
        "  !wget -q https://pjreddie.com/media/files/darknet53.conv.74"
      ],
      "execution_count": 0,
      "outputs": []
    },
    {
      "cell_type": "markdown",
      "metadata": {
        "id": "ERFpAIMoxu71",
        "colab_type": "text"
      },
      "source": [
        "Make changes to the cfg file in ${darknet_dir}/cfg to suit it to RSNA dataset and store it as rsna_yolov3_batch64.cfg_train to be used in training the model."
      ]
    },
    {
      "cell_type": "code",
      "metadata": {
        "id": "YOyecs901095",
        "colab_type": "code",
        "colab": {}
      },
      "source": [
        "if os.path.exists(cfg_dir+\"rsna_yolov3_batch64.cfg_train\") == False:\n",
        "  !wget --no-check-certificate -q \"https://docs.google.com/uc?export=download&id=18ptTK4Vbeokqpux8Onr0OmwUP9ipmcYO\" -O rsna_yolov3_batch64.cfg_train"
      ],
      "execution_count": 0,
      "outputs": []
    },
    {
      "cell_type": "markdown",
      "metadata": {
        "_uuid": "f03592ee228f9ae16edac192071955d01233a147",
        "id": "ymX8SU996UNk",
        "colab_type": "text"
      },
      "source": [
        "## 4. Training YOLOv3\n",
        "\n"
      ]
    },
    {
      "cell_type": "markdown",
      "metadata": {
        "_uuid": "69f52f31dea66f3da1952b537c63dc5376d64492",
        "id": "ykN14SyF6UNl",
        "colab_type": "text"
      },
      "source": [
        "### 4.0. Command for training with Pre-trained CNN Weights (darknet53.conv.74)\n"
      ]
    },
    {
      "cell_type": "code",
      "metadata": {
        "id": "OdH04RnJJcQy",
        "colab_type": "code",
        "colab": {}
      },
      "source": [
        "os.chdir(\"/content/gdrive/My Drive/Colab Notebooks/Capstone Project/darknet\")\n",
        "!./darknet detector train /content/gdrive/My\\ Drive/Colab\\ Notebooks/Capstone\\ Project/data/cfg/rsna.data /content/gdrive/My\\ Drive/Colab\\ Notebooks/Capstone\\ Project/data/cfg/rsna_yolov3.cfg_train /content/gdrive/My\\ Drive/Colab\\ Notebooks/Capstone\\ Project/data/cfg/darknet53.conv.74"
      ],
      "execution_count": 0,
      "outputs": []
    },
    {
      "cell_type": "markdown",
      "metadata": {
        "id": "Sb6J2HoI0VGi",
        "colab_type": "text"
      },
      "source": [
        "The model backup is stored in ${darknet_dir}/model_backup. We could get until 6238 iterations and then google colab timed out, after 5 hours. It is very resource consuming. We made use of the model weights trained on the same dataset for 15300 iterations from this link [https://docs.google.com/uc?export=download&id=1FDzMN-kGVYCvBeDKwemAazldSVkAEFyd]."
      ]
    },
    {
      "cell_type": "markdown",
      "metadata": {
        "_uuid": "ef7409909b9403f43b2c92760220b23a38d42029",
        "id": "q8KRDwce6UNy",
        "colab_type": "text"
      },
      "source": [
        "## 5. How to use trainined YOLOv3 for test images (command line)"
      ]
    },
    {
      "cell_type": "markdown",
      "metadata": {
        "_uuid": "c97da5c5f52e0257a3b1a2568e6260a9560700a0",
        "id": "ZS0f89hv6UNz",
        "colab_type": "text"
      },
      "source": [
        "### 5.0. Copy sample test image"
      ]
    },
    {
      "cell_type": "code",
      "metadata": {
        "trusted": true,
        "_uuid": "688344d91c7f7fb87418486b9b6b5f91a8b26e9a",
        "id": "Dc4CqFYh6UNz",
        "colab_type": "code",
        "outputId": "9e4d7e14-99b1-496e-a0d6-db6e47c7858a",
        "colab": {
          "base_uri": "https://localhost:8080/",
          "height": 34
        }
      },
      "source": [
        "ex_patient_id = patient_data[patient_data.Target == 1].patientId.values[2]\n",
        "ex_img_path = \"/content/gdrive/My Drive/Colab Notebooks/Capstone Project/data/training_images/\"+ex_patient_id+\".jpg\"\n",
        "shutil.copy(ex_img_path, \"/content/gdrive/My Drive/Colab Notebooks/Capstone Project/data/test.jpg\")\n"
      ],
      "execution_count": 0,
      "outputs": [
        {
          "output_type": "execute_result",
          "data": {
            "text/plain": [
              "'/content/gdrive/My Drive/Colab Notebooks/Capstone Project/data/test.jpg'"
            ]
          },
          "metadata": {
            "tags": []
          },
          "execution_count": 57
        }
      ]
    },
    {
      "cell_type": "markdown",
      "metadata": {
        "_uuid": "245c607d7753b947a91fe4d7ce8daf983afdfd0e",
        "id": "XvkmPTFe6UN3",
        "colab_type": "text"
      },
      "source": [
        "### 5.1. Create test cfg file \n",
        "The cfg file `batch` and `subdivision` is set 1 each. The width and height of images set to 608 and save it as rsna_yolov3.cfg_test.\n"
      ]
    },
    {
      "cell_type": "markdown",
      "metadata": {
        "_uuid": "41b4ca297869af6808b758824960e9dad12d00c0",
        "id": "mFBYqVQh6UN7",
        "colab_type": "text"
      },
      "source": [
        "### Test the model on the validation data"
      ]
    },
    {
      "cell_type": "code",
      "metadata": {
        "id": "GWJF1tYX4CsJ",
        "colab_type": "code",
        "outputId": "e42998f9-914c-456e-c383-a5a92acd1e83",
        "colab": {
          "base_uri": "https://localhost:8080/",
          "height": 1000
        }
      },
      "source": [
        "os.chdir(\"/content/gdrive/My Drive/Colab Notebooks/Capstone Project/darknet\")\n",
        "!./darknet detector valid /content/gdrive/My\\ Drive/Colab\\ Notebooks/Capstone\\ Project/data/cfg/rsna.data /content/gdrive/My\\ Drive/Colab\\ Notebooks/Capstone\\ Project/data/cfg/rsna_yolov3.cfg_test /content/gdrive/My\\ Drive/Colab\\ Notebooks/Capstone\\ Project/data/cfg/rsna_yolov3_15300.weights"
      ],
      "execution_count": 0,
      "outputs": [
        {
          "output_type": "stream",
          "text": [
            "layer     filters    size              input                output\n",
            "    0 conv     32  3 x 3 / 1   608 x 608 x   3   ->   608 x 608 x  32  0.639 BFLOPs\n",
            "    1 conv     64  3 x 3 / 2   608 x 608 x  32   ->   304 x 304 x  64  3.407 BFLOPs\n",
            "    2 conv     32  1 x 1 / 1   304 x 304 x  64   ->   304 x 304 x  32  0.379 BFLOPs\n",
            "    3 conv     64  3 x 3 / 1   304 x 304 x  32   ->   304 x 304 x  64  3.407 BFLOPs\n",
            "    4 res    1                 304 x 304 x  64   ->   304 x 304 x  64\n",
            "    5 conv    128  3 x 3 / 2   304 x 304 x  64   ->   152 x 152 x 128  3.407 BFLOPs\n",
            "    6 conv     64  1 x 1 / 1   152 x 152 x 128   ->   152 x 152 x  64  0.379 BFLOPs\n",
            "    7 conv    128  3 x 3 / 1   152 x 152 x  64   ->   152 x 152 x 128  3.407 BFLOPs\n",
            "    8 res    5                 152 x 152 x 128   ->   152 x 152 x 128\n",
            "    9 conv     64  1 x 1 / 1   152 x 152 x 128   ->   152 x 152 x  64  0.379 BFLOPs\n",
            "   10 conv    128  3 x 3 / 1   152 x 152 x  64   ->   152 x 152 x 128  3.407 BFLOPs\n",
            "   11 res    8                 152 x 152 x 128   ->   152 x 152 x 128\n",
            "   12 conv    256  3 x 3 / 2   152 x 152 x 128   ->    76 x  76 x 256  3.407 BFLOPs\n",
            "   13 conv    128  1 x 1 / 1    76 x  76 x 256   ->    76 x  76 x 128  0.379 BFLOPs\n",
            "   14 conv    256  3 x 3 / 1    76 x  76 x 128   ->    76 x  76 x 256  3.407 BFLOPs\n",
            "   15 res   12                  76 x  76 x 256   ->    76 x  76 x 256\n",
            "   16 conv    128  1 x 1 / 1    76 x  76 x 256   ->    76 x  76 x 128  0.379 BFLOPs\n",
            "   17 conv    256  3 x 3 / 1    76 x  76 x 128   ->    76 x  76 x 256  3.407 BFLOPs\n",
            "   18 res   15                  76 x  76 x 256   ->    76 x  76 x 256\n",
            "   19 conv    128  1 x 1 / 1    76 x  76 x 256   ->    76 x  76 x 128  0.379 BFLOPs\n",
            "   20 conv    256  3 x 3 / 1    76 x  76 x 128   ->    76 x  76 x 256  3.407 BFLOPs\n",
            "   21 res   18                  76 x  76 x 256   ->    76 x  76 x 256\n",
            "   22 conv    128  1 x 1 / 1    76 x  76 x 256   ->    76 x  76 x 128  0.379 BFLOPs\n",
            "   23 conv    256  3 x 3 / 1    76 x  76 x 128   ->    76 x  76 x 256  3.407 BFLOPs\n",
            "   24 res   21                  76 x  76 x 256   ->    76 x  76 x 256\n",
            "   25 conv    128  1 x 1 / 1    76 x  76 x 256   ->    76 x  76 x 128  0.379 BFLOPs\n",
            "   26 conv    256  3 x 3 / 1    76 x  76 x 128   ->    76 x  76 x 256  3.407 BFLOPs\n",
            "   27 res   24                  76 x  76 x 256   ->    76 x  76 x 256\n",
            "   28 conv    128  1 x 1 / 1    76 x  76 x 256   ->    76 x  76 x 128  0.379 BFLOPs\n",
            "   29 conv    256  3 x 3 / 1    76 x  76 x 128   ->    76 x  76 x 256  3.407 BFLOPs\n",
            "   30 res   27                  76 x  76 x 256   ->    76 x  76 x 256\n",
            "   31 conv    128  1 x 1 / 1    76 x  76 x 256   ->    76 x  76 x 128  0.379 BFLOPs\n",
            "   32 conv    256  3 x 3 / 1    76 x  76 x 128   ->    76 x  76 x 256  3.407 BFLOPs\n",
            "   33 res   30                  76 x  76 x 256   ->    76 x  76 x 256\n",
            "   34 conv    128  1 x 1 / 1    76 x  76 x 256   ->    76 x  76 x 128  0.379 BFLOPs\n",
            "   35 conv    256  3 x 3 / 1    76 x  76 x 128   ->    76 x  76 x 256  3.407 BFLOPs\n",
            "   36 res   33                  76 x  76 x 256   ->    76 x  76 x 256\n",
            "   37 conv    512  3 x 3 / 2    76 x  76 x 256   ->    38 x  38 x 512  3.407 BFLOPs\n",
            "   38 conv    256  1 x 1 / 1    38 x  38 x 512   ->    38 x  38 x 256  0.379 BFLOPs\n",
            "   39 conv    512  3 x 3 / 1    38 x  38 x 256   ->    38 x  38 x 512  3.407 BFLOPs\n",
            "   40 res   37                  38 x  38 x 512   ->    38 x  38 x 512\n",
            "   41 conv    256  1 x 1 / 1    38 x  38 x 512   ->    38 x  38 x 256  0.379 BFLOPs\n",
            "   42 conv    512  3 x 3 / 1    38 x  38 x 256   ->    38 x  38 x 512  3.407 BFLOPs\n",
            "   43 res   40                  38 x  38 x 512   ->    38 x  38 x 512\n",
            "   44 conv    256  1 x 1 / 1    38 x  38 x 512   ->    38 x  38 x 256  0.379 BFLOPs\n",
            "   45 conv    512  3 x 3 / 1    38 x  38 x 256   ->    38 x  38 x 512  3.407 BFLOPs\n",
            "   46 res   43                  38 x  38 x 512   ->    38 x  38 x 512\n",
            "   47 conv    256  1 x 1 / 1    38 x  38 x 512   ->    38 x  38 x 256  0.379 BFLOPs\n",
            "   48 conv    512  3 x 3 / 1    38 x  38 x 256   ->    38 x  38 x 512  3.407 BFLOPs\n",
            "   49 res   46                  38 x  38 x 512   ->    38 x  38 x 512\n",
            "   50 conv    256  1 x 1 / 1    38 x  38 x 512   ->    38 x  38 x 256  0.379 BFLOPs\n",
            "   51 conv    512  3 x 3 / 1    38 x  38 x 256   ->    38 x  38 x 512  3.407 BFLOPs\n",
            "   52 res   49                  38 x  38 x 512   ->    38 x  38 x 512\n",
            "   53 conv    256  1 x 1 / 1    38 x  38 x 512   ->    38 x  38 x 256  0.379 BFLOPs\n",
            "   54 conv    512  3 x 3 / 1    38 x  38 x 256   ->    38 x  38 x 512  3.407 BFLOPs\n",
            "   55 res   52                  38 x  38 x 512   ->    38 x  38 x 512\n",
            "   56 conv    256  1 x 1 / 1    38 x  38 x 512   ->    38 x  38 x 256  0.379 BFLOPs\n",
            "   57 conv    512  3 x 3 / 1    38 x  38 x 256   ->    38 x  38 x 512  3.407 BFLOPs\n",
            "   58 res   55                  38 x  38 x 512   ->    38 x  38 x 512\n",
            "   59 conv    256  1 x 1 / 1    38 x  38 x 512   ->    38 x  38 x 256  0.379 BFLOPs\n",
            "   60 conv    512  3 x 3 / 1    38 x  38 x 256   ->    38 x  38 x 512  3.407 BFLOPs\n",
            "   61 res   58                  38 x  38 x 512   ->    38 x  38 x 512\n",
            "   62 conv   1024  3 x 3 / 2    38 x  38 x 512   ->    19 x  19 x1024  3.407 BFLOPs\n",
            "   63 conv    512  1 x 1 / 1    19 x  19 x1024   ->    19 x  19 x 512  0.379 BFLOPs\n",
            "   64 conv   1024  3 x 3 / 1    19 x  19 x 512   ->    19 x  19 x1024  3.407 BFLOPs\n",
            "   65 res   62                  19 x  19 x1024   ->    19 x  19 x1024\n",
            "   66 conv    512  1 x 1 / 1    19 x  19 x1024   ->    19 x  19 x 512  0.379 BFLOPs\n",
            "   67 conv   1024  3 x 3 / 1    19 x  19 x 512   ->    19 x  19 x1024  3.407 BFLOPs\n",
            "   68 res   65                  19 x  19 x1024   ->    19 x  19 x1024\n",
            "   69 conv    512  1 x 1 / 1    19 x  19 x1024   ->    19 x  19 x 512  0.379 BFLOPs\n",
            "   70 conv   1024  3 x 3 / 1    19 x  19 x 512   ->    19 x  19 x1024  3.407 BFLOPs\n",
            "   71 res   68                  19 x  19 x1024   ->    19 x  19 x1024\n",
            "   72 conv    512  1 x 1 / 1    19 x  19 x1024   ->    19 x  19 x 512  0.379 BFLOPs\n",
            "   73 conv   1024  3 x 3 / 1    19 x  19 x 512   ->    19 x  19 x1024  3.407 BFLOPs\n",
            "   74 res   71                  19 x  19 x1024   ->    19 x  19 x1024\n",
            "   75 conv    512  1 x 1 / 1    19 x  19 x1024   ->    19 x  19 x 512  0.379 BFLOPs\n",
            "   76 conv   1024  3 x 3 / 1    19 x  19 x 512   ->    19 x  19 x1024  3.407 BFLOPs\n",
            "   77 conv    512  1 x 1 / 1    19 x  19 x1024   ->    19 x  19 x 512  0.379 BFLOPs\n",
            "   78 conv   1024  3 x 3 / 1    19 x  19 x 512   ->    19 x  19 x1024  3.407 BFLOPs\n",
            "   79 conv    512  1 x 1 / 1    19 x  19 x1024   ->    19 x  19 x 512  0.379 BFLOPs\n",
            "   80 conv   1024  3 x 3 / 1    19 x  19 x 512   ->    19 x  19 x1024  3.407 BFLOPs\n",
            "   81 conv     18  1 x 1 / 1    19 x  19 x1024   ->    19 x  19 x  18  0.013 BFLOPs\n",
            "   82 yolo\n",
            "   83 route  79\n",
            "   84 conv    256  1 x 1 / 1    19 x  19 x 512   ->    19 x  19 x 256  0.095 BFLOPs\n",
            "   85 upsample            2x    19 x  19 x 256   ->    38 x  38 x 256\n",
            "   86 route  85 61\n",
            "   87 conv    256  1 x 1 / 1    38 x  38 x 768   ->    38 x  38 x 256  0.568 BFLOPs\n",
            "   88 conv    512  3 x 3 / 1    38 x  38 x 256   ->    38 x  38 x 512  3.407 BFLOPs\n",
            "   89 conv    256  1 x 1 / 1    38 x  38 x 512   ->    38 x  38 x 256  0.379 BFLOPs\n",
            "   90 conv    512  3 x 3 / 1    38 x  38 x 256   ->    38 x  38 x 512  3.407 BFLOPs\n",
            "   91 conv    256  1 x 1 / 1    38 x  38 x 512   ->    38 x  38 x 256  0.379 BFLOPs\n",
            "   92 conv    512  3 x 3 / 1    38 x  38 x 256   ->    38 x  38 x 512  3.407 BFLOPs\n",
            "   93 conv     18  1 x 1 / 1    38 x  38 x 512   ->    38 x  38 x  18  0.027 BFLOPs\n",
            "   94 yolo\n",
            "   95 route  91\n",
            "   96 conv    128  1 x 1 / 1    38 x  38 x 256   ->    38 x  38 x 128  0.095 BFLOPs\n",
            "   97 upsample            2x    38 x  38 x 128   ->    76 x  76 x 128\n",
            "   98 route  97 36\n",
            "   99 conv    128  1 x 1 / 1    76 x  76 x 384   ->    76 x  76 x 128  0.568 BFLOPs\n",
            "  100 conv    256  3 x 3 / 1    76 x  76 x 128   ->    76 x  76 x 256  3.407 BFLOPs\n",
            "  101 conv    128  1 x 1 / 1    76 x  76 x 256   ->    76 x  76 x 128  0.379 BFLOPs\n",
            "  102 conv    256  3 x 3 / 1    76 x  76 x 128   ->    76 x  76 x 256  3.407 BFLOPs\n",
            "  103 conv    128  1 x 1 / 1    76 x  76 x 256   ->    76 x  76 x 128  0.379 BFLOPs\n",
            "  104 conv    256  3 x 3 / 1    76 x  76 x 128   ->    76 x  76 x 256  3.407 BFLOPs\n",
            "  105 conv     18  1 x 1 / 1    76 x  76 x 256   ->    76 x  76 x  18  0.053 BFLOPs\n",
            "  106 yolo\n",
            "Loading weights from /content/gdrive/My Drive/Colab Notebooks/Capstone Project/data/cfg/rsna_yolov3_15300.weights...Done!\n",
            "Learning Rate: 0.001, Momentum: 0.9, Decay: 0.0005\n",
            "4\n",
            "8\n",
            "12\n",
            "16\n",
            "20\n",
            "24\n",
            "28\n",
            "32\n",
            "36\n",
            "40\n",
            "44\n",
            "48\n",
            "52\n",
            "56\n",
            "60\n",
            "64\n",
            "68\n",
            "72\n",
            "76\n",
            "80\n",
            "84\n",
            "88\n",
            "92\n",
            "96\n",
            "100\n",
            "104\n",
            "108\n",
            "112\n",
            "116\n",
            "120\n",
            "124\n",
            "128\n",
            "132\n",
            "136\n",
            "140\n",
            "144\n",
            "148\n",
            "152\n",
            "156\n",
            "160\n",
            "164\n",
            "168\n",
            "172\n",
            "176\n",
            "180\n",
            "184\n",
            "188\n",
            "192\n",
            "196\n",
            "200\n",
            "204\n",
            "208\n",
            "212\n",
            "216\n",
            "220\n",
            "224\n",
            "228\n",
            "232\n",
            "236\n",
            "240\n",
            "244\n",
            "248\n",
            "252\n",
            "256\n",
            "260\n",
            "264\n",
            "268\n",
            "272\n",
            "276\n",
            "280\n",
            "284\n",
            "288\n",
            "292\n",
            "296\n",
            "300\n",
            "304\n",
            "308\n",
            "312\n",
            "316\n",
            "320\n",
            "324\n",
            "328\n",
            "332\n",
            "336\n",
            "340\n",
            "344\n",
            "348\n",
            "352\n",
            "356\n",
            "360\n",
            "364\n",
            "368\n",
            "372\n",
            "376\n",
            "380\n",
            "384\n",
            "388\n",
            "392\n",
            "396\n",
            "400\n",
            "404\n",
            "408\n",
            "412\n",
            "416\n",
            "420\n",
            "424\n",
            "428\n",
            "432\n",
            "436\n",
            "440\n",
            "444\n",
            "448\n",
            "452\n",
            "456\n",
            "460\n",
            "464\n",
            "468\n",
            "472\n",
            "476\n",
            "480\n",
            "484\n",
            "488\n",
            "492\n",
            "496\n",
            "500\n",
            "504\n",
            "508\n",
            "512\n",
            "516\n",
            "520\n",
            "524\n",
            "528\n",
            "532\n",
            "536\n",
            "540\n",
            "544\n",
            "548\n",
            "552\n",
            "556\n",
            "560\n",
            "564\n",
            "568\n",
            "572\n",
            "576\n",
            "580\n",
            "584\n",
            "588\n",
            "592\n",
            "596\n",
            "600\n",
            "604\n",
            "Total Detection Time: 12490.926905 Seconds\n"
          ],
          "name": "stdout"
        }
      ]
    },
    {
      "cell_type": "code",
      "metadata": {
        "trusted": true,
        "_uuid": "0dec1cc6f5bd1f8c854697128091ec7bd69d6e3e",
        "id": "FeQ75GAc6UOA",
        "colab_type": "code",
        "colab": {}
      },
      "source": [
        "ex_model_path = \"./pred_results/comp4_det_test_pneumonia.txt\"\n",
        "\n",
        "df = pd.read_table(ex_model_path,sep=\" \",names=['imgName','scale','x','y','w','h'])\n",
        "df.sample(1)\n",
        "\n",
        "for index,row in df.sample(1).iterrows():\n",
        "  imgName = \"/content/gdrive/My Drive/Colab Notebooks/Capstone Project/data/training_images/\"+row['imgName']+\".jpg\"\n",
        "  plt.imshow(cv2.imread(imgName))\n",
        "  x = (rcx-rw/2)*img_size\n",
        "        y = (rcy-rh/2)*img_size\n",
        "        w = rw*img_size\n",
        "        h = rh*img_size\n"
      ],
      "execution_count": 0,
      "outputs": []
    },
    {
      "cell_type": "code",
      "metadata": {
        "id": "JPGRdgp7a05R",
        "colab_type": "code",
        "outputId": "b7e2e6d5-d9a3-46a8-b673-422decf20dfa",
        "colab": {
          "base_uri": "https://localhost:8080/",
          "height": 1000
        }
      },
      "source": [
        "os.chdir(\"/content/gdrive/My Drive/Colab Notebooks/Capstone Project/darknet\")\n",
        "!./darknet detector test /content/gdrive/My\\ Drive/Colab\\ Notebooks/Capstone\\ Project/data/cfg/rsna.data /content/gdrive/My\\ Drive/Colab\\ Notebooks/Capstone\\ Project/data/cfg/rsna_yolov3.cfg_test /content/gdrive/My\\ Drive/Colab\\ Notebooks/Capstone\\ Project/data/cfg/rsna_yolov3_15300.weights /content/gdrive/My\\ Drive/Colab\\ Notebooks/Capstone\\ Project/data/test.jpg"
      ],
      "execution_count": 0,
      "outputs": [
        {
          "output_type": "stream",
          "text": [
            "layer     filters    size              input                output\n",
            "    0 conv     32  3 x 3 / 1   608 x 608 x   3   ->   608 x 608 x  32  0.639 BFLOPs\n",
            "    1 conv     64  3 x 3 / 2   608 x 608 x  32   ->   304 x 304 x  64  3.407 BFLOPs\n",
            "    2 conv     32  1 x 1 / 1   304 x 304 x  64   ->   304 x 304 x  32  0.379 BFLOPs\n",
            "    3 conv     64  3 x 3 / 1   304 x 304 x  32   ->   304 x 304 x  64  3.407 BFLOPs\n",
            "    4 res    1                 304 x 304 x  64   ->   304 x 304 x  64\n",
            "    5 conv    128  3 x 3 / 2   304 x 304 x  64   ->   152 x 152 x 128  3.407 BFLOPs\n",
            "    6 conv     64  1 x 1 / 1   152 x 152 x 128   ->   152 x 152 x  64  0.379 BFLOPs\n",
            "    7 conv    128  3 x 3 / 1   152 x 152 x  64   ->   152 x 152 x 128  3.407 BFLOPs\n",
            "    8 res    5                 152 x 152 x 128   ->   152 x 152 x 128\n",
            "    9 conv     64  1 x 1 / 1   152 x 152 x 128   ->   152 x 152 x  64  0.379 BFLOPs\n",
            "   10 conv    128  3 x 3 / 1   152 x 152 x  64   ->   152 x 152 x 128  3.407 BFLOPs\n",
            "   11 res    8                 152 x 152 x 128   ->   152 x 152 x 128\n",
            "   12 conv    256  3 x 3 / 2   152 x 152 x 128   ->    76 x  76 x 256  3.407 BFLOPs\n",
            "   13 conv    128  1 x 1 / 1    76 x  76 x 256   ->    76 x  76 x 128  0.379 BFLOPs\n",
            "   14 conv    256  3 x 3 / 1    76 x  76 x 128   ->    76 x  76 x 256  3.407 BFLOPs\n",
            "   15 res   12                  76 x  76 x 256   ->    76 x  76 x 256\n",
            "   16 conv    128  1 x 1 / 1    76 x  76 x 256   ->    76 x  76 x 128  0.379 BFLOPs\n",
            "   17 conv    256  3 x 3 / 1    76 x  76 x 128   ->    76 x  76 x 256  3.407 BFLOPs\n",
            "   18 res   15                  76 x  76 x 256   ->    76 x  76 x 256\n",
            "   19 conv    128  1 x 1 / 1    76 x  76 x 256   ->    76 x  76 x 128  0.379 BFLOPs\n",
            "   20 conv    256  3 x 3 / 1    76 x  76 x 128   ->    76 x  76 x 256  3.407 BFLOPs\n",
            "   21 res   18                  76 x  76 x 256   ->    76 x  76 x 256\n",
            "   22 conv    128  1 x 1 / 1    76 x  76 x 256   ->    76 x  76 x 128  0.379 BFLOPs\n",
            "   23 conv    256  3 x 3 / 1    76 x  76 x 128   ->    76 x  76 x 256  3.407 BFLOPs\n",
            "   24 res   21                  76 x  76 x 256   ->    76 x  76 x 256\n",
            "   25 conv    128  1 x 1 / 1    76 x  76 x 256   ->    76 x  76 x 128  0.379 BFLOPs\n",
            "   26 conv    256  3 x 3 / 1    76 x  76 x 128   ->    76 x  76 x 256  3.407 BFLOPs\n",
            "   27 res   24                  76 x  76 x 256   ->    76 x  76 x 256\n",
            "   28 conv    128  1 x 1 / 1    76 x  76 x 256   ->    76 x  76 x 128  0.379 BFLOPs\n",
            "   29 conv    256  3 x 3 / 1    76 x  76 x 128   ->    76 x  76 x 256  3.407 BFLOPs\n",
            "   30 res   27                  76 x  76 x 256   ->    76 x  76 x 256\n",
            "   31 conv    128  1 x 1 / 1    76 x  76 x 256   ->    76 x  76 x 128  0.379 BFLOPs\n",
            "   32 conv    256  3 x 3 / 1    76 x  76 x 128   ->    76 x  76 x 256  3.407 BFLOPs\n",
            "   33 res   30                  76 x  76 x 256   ->    76 x  76 x 256\n",
            "   34 conv    128  1 x 1 / 1    76 x  76 x 256   ->    76 x  76 x 128  0.379 BFLOPs\n",
            "   35 conv    256  3 x 3 / 1    76 x  76 x 128   ->    76 x  76 x 256  3.407 BFLOPs\n",
            "   36 res   33                  76 x  76 x 256   ->    76 x  76 x 256\n",
            "   37 conv    512  3 x 3 / 2    76 x  76 x 256   ->    38 x  38 x 512  3.407 BFLOPs\n",
            "   38 conv    256  1 x 1 / 1    38 x  38 x 512   ->    38 x  38 x 256  0.379 BFLOPs\n",
            "   39 conv    512  3 x 3 / 1    38 x  38 x 256   ->    38 x  38 x 512  3.407 BFLOPs\n",
            "   40 res   37                  38 x  38 x 512   ->    38 x  38 x 512\n",
            "   41 conv    256  1 x 1 / 1    38 x  38 x 512   ->    38 x  38 x 256  0.379 BFLOPs\n",
            "   42 conv    512  3 x 3 / 1    38 x  38 x 256   ->    38 x  38 x 512  3.407 BFLOPs\n",
            "   43 res   40                  38 x  38 x 512   ->    38 x  38 x 512\n",
            "   44 conv    256  1 x 1 / 1    38 x  38 x 512   ->    38 x  38 x 256  0.379 BFLOPs\n",
            "   45 conv    512  3 x 3 / 1    38 x  38 x 256   ->    38 x  38 x 512  3.407 BFLOPs\n",
            "   46 res   43                  38 x  38 x 512   ->    38 x  38 x 512\n",
            "   47 conv    256  1 x 1 / 1    38 x  38 x 512   ->    38 x  38 x 256  0.379 BFLOPs\n",
            "   48 conv    512  3 x 3 / 1    38 x  38 x 256   ->    38 x  38 x 512  3.407 BFLOPs\n",
            "   49 res   46                  38 x  38 x 512   ->    38 x  38 x 512\n",
            "   50 conv    256  1 x 1 / 1    38 x  38 x 512   ->    38 x  38 x 256  0.379 BFLOPs\n",
            "   51 conv    512  3 x 3 / 1    38 x  38 x 256   ->    38 x  38 x 512  3.407 BFLOPs\n",
            "   52 res   49                  38 x  38 x 512   ->    38 x  38 x 512\n",
            "   53 conv    256  1 x 1 / 1    38 x  38 x 512   ->    38 x  38 x 256  0.379 BFLOPs\n",
            "   54 conv    512  3 x 3 / 1    38 x  38 x 256   ->    38 x  38 x 512  3.407 BFLOPs\n",
            "   55 res   52                  38 x  38 x 512   ->    38 x  38 x 512\n",
            "   56 conv    256  1 x 1 / 1    38 x  38 x 512   ->    38 x  38 x 256  0.379 BFLOPs\n",
            "   57 conv    512  3 x 3 / 1    38 x  38 x 256   ->    38 x  38 x 512  3.407 BFLOPs\n",
            "   58 res   55                  38 x  38 x 512   ->    38 x  38 x 512\n",
            "   59 conv    256  1 x 1 / 1    38 x  38 x 512   ->    38 x  38 x 256  0.379 BFLOPs\n",
            "   60 conv    512  3 x 3 / 1    38 x  38 x 256   ->    38 x  38 x 512  3.407 BFLOPs\n",
            "   61 res   58                  38 x  38 x 512   ->    38 x  38 x 512\n",
            "   62 conv   1024  3 x 3 / 2    38 x  38 x 512   ->    19 x  19 x1024  3.407 BFLOPs\n",
            "   63 conv    512  1 x 1 / 1    19 x  19 x1024   ->    19 x  19 x 512  0.379 BFLOPs\n",
            "   64 conv   1024  3 x 3 / 1    19 x  19 x 512   ->    19 x  19 x1024  3.407 BFLOPs\n",
            "   65 res   62                  19 x  19 x1024   ->    19 x  19 x1024\n",
            "   66 conv    512  1 x 1 / 1    19 x  19 x1024   ->    19 x  19 x 512  0.379 BFLOPs\n",
            "   67 conv   1024  3 x 3 / 1    19 x  19 x 512   ->    19 x  19 x1024  3.407 BFLOPs\n",
            "   68 res   65                  19 x  19 x1024   ->    19 x  19 x1024\n",
            "   69 conv    512  1 x 1 / 1    19 x  19 x1024   ->    19 x  19 x 512  0.379 BFLOPs\n",
            "   70 conv   1024  3 x 3 / 1    19 x  19 x 512   ->    19 x  19 x1024  3.407 BFLOPs\n",
            "   71 res   68                  19 x  19 x1024   ->    19 x  19 x1024\n",
            "   72 conv    512  1 x 1 / 1    19 x  19 x1024   ->    19 x  19 x 512  0.379 BFLOPs\n",
            "   73 conv   1024  3 x 3 / 1    19 x  19 x 512   ->    19 x  19 x1024  3.407 BFLOPs\n",
            "   74 res   71                  19 x  19 x1024   ->    19 x  19 x1024\n",
            "   75 conv    512  1 x 1 / 1    19 x  19 x1024   ->    19 x  19 x 512  0.379 BFLOPs\n",
            "   76 conv   1024  3 x 3 / 1    19 x  19 x 512   ->    19 x  19 x1024  3.407 BFLOPs\n",
            "   77 conv    512  1 x 1 / 1    19 x  19 x1024   ->    19 x  19 x 512  0.379 BFLOPs\n",
            "   78 conv   1024  3 x 3 / 1    19 x  19 x 512   ->    19 x  19 x1024  3.407 BFLOPs\n",
            "   79 conv    512  1 x 1 / 1    19 x  19 x1024   ->    19 x  19 x 512  0.379 BFLOPs\n",
            "   80 conv   1024  3 x 3 / 1    19 x  19 x 512   ->    19 x  19 x1024  3.407 BFLOPs\n",
            "   81 conv     18  1 x 1 / 1    19 x  19 x1024   ->    19 x  19 x  18  0.013 BFLOPs\n",
            "   82 yolo\n",
            "   83 route  79\n",
            "   84 conv    256  1 x 1 / 1    19 x  19 x 512   ->    19 x  19 x 256  0.095 BFLOPs\n",
            "   85 upsample            2x    19 x  19 x 256   ->    38 x  38 x 256\n",
            "   86 route  85 61\n",
            "   87 conv    256  1 x 1 / 1    38 x  38 x 768   ->    38 x  38 x 256  0.568 BFLOPs\n",
            "   88 conv    512  3 x 3 / 1    38 x  38 x 256   ->    38 x  38 x 512  3.407 BFLOPs\n",
            "   89 conv    256  1 x 1 / 1    38 x  38 x 512   ->    38 x  38 x 256  0.379 BFLOPs\n",
            "   90 conv    512  3 x 3 / 1    38 x  38 x 256   ->    38 x  38 x 512  3.407 BFLOPs\n",
            "   91 conv    256  1 x 1 / 1    38 x  38 x 512   ->    38 x  38 x 256  0.379 BFLOPs\n",
            "   92 conv    512  3 x 3 / 1    38 x  38 x 256   ->    38 x  38 x 512  3.407 BFLOPs\n",
            "   93 conv     18  1 x 1 / 1    38 x  38 x 512   ->    38 x  38 x  18  0.027 BFLOPs\n",
            "   94 yolo\n",
            "   95 route  91\n",
            "   96 conv    128  1 x 1 / 1    38 x  38 x 256   ->    38 x  38 x 128  0.095 BFLOPs\n",
            "   97 upsample            2x    38 x  38 x 128   ->    76 x  76 x 128\n",
            "   98 route  97 36\n",
            "   99 conv    128  1 x 1 / 1    76 x  76 x 384   ->    76 x  76 x 128  0.568 BFLOPs\n",
            "  100 conv    256  3 x 3 / 1    76 x  76 x 128   ->    76 x  76 x 256  3.407 BFLOPs\n",
            "  101 conv    128  1 x 1 / 1    76 x  76 x 256   ->    76 x  76 x 128  0.379 BFLOPs\n",
            "  102 conv    256  3 x 3 / 1    76 x  76 x 128   ->    76 x  76 x 256  3.407 BFLOPs\n",
            "  103 conv    128  1 x 1 / 1    76 x  76 x 256   ->    76 x  76 x 128  0.379 BFLOPs\n",
            "  104 conv    256  3 x 3 / 1    76 x  76 x 128   ->    76 x  76 x 256  3.407 BFLOPs\n",
            "  105 conv     18  1 x 1 / 1    76 x  76 x 256   ->    76 x  76 x  18  0.053 BFLOPs\n",
            "  106 yolo\n",
            "Loading weights from /content/gdrive/My Drive/Colab Notebooks/Capstone Project/data/cfg/rsna_yolov3_15300.weights...Done!\n"
          ],
          "name": "stdout"
        }
      ]
    },
    {
      "cell_type": "code",
      "metadata": {
        "id": "JVlGMFqC2-id",
        "colab_type": "code",
        "outputId": "3e1a3811-715e-4b5c-ab7d-18c3e5a49021",
        "colab": {
          "base_uri": "https://localhost:8080/",
          "height": 286
        }
      },
      "source": [
        "plt.imshow(cv2.imread(\"predictions.jpg\"))"
      ],
      "execution_count": 0,
      "outputs": [
        {
          "output_type": "execute_result",
          "data": {
            "text/plain": [
              "<matplotlib.image.AxesImage at 0x7ff5bf14a550>"
            ]
          },
          "metadata": {
            "tags": []
          },
          "execution_count": 63
        },
        {
          "output_type": "display_data",
          "data": {
            "image/png": "[encoded data removed]",
            "text/plain": [
              "<Figure size 432x288 with 1 Axes>"
            ]
          },
          "metadata": {
            "tags": []
          }
        }
      ]
    },
    {
      "cell_type": "code",
      "metadata": {
        "id": "DhGe8YbA4jPL",
        "colab_type": "code",
        "outputId": "38828dfc-6972-4b65-c02a-affa29fa53ee",
        "colab": {
          "base_uri": "https://localhost:8080/",
          "height": 388
        }
      },
      "source": [
        "ex_img_path = \"/content/gdrive/My Drive/Colab Notebooks/Capstone Project/data/training_images/\"+ex_patient_id+\".jpg\"\n",
        "ex_label_path = \"/content/gdrive/My Drive/Colab Notebooks/Capstone Project/data/training_labels/\"+ex_patient_id+\".txt\"\n",
        "\n",
        "img_size = 1014\n",
        "print(ex_img_path)\n",
        "plt.imshow(cv2.imread(\"predictions.jpg\"))\n",
        "with open(ex_label_path, \"r\") as f:\n",
        "    for line in f:\n",
        "        print(line)\n",
        "        class_id, rcx, rcy, rw, rh = list(map(float, line.strip().split()))\n",
        "        x = (rcx-rw/2)*img_size\n",
        "        y = (rcy-rh/2)*img_size\n",
        "        w = rw*img_size\n",
        "        h = rh*img_size\n",
        "        #Uncomment this line to see the overlap of actual and predicted outcome\n",
        "        # plt.plot([x, x, x+w, x+w, x], [y, y+h, y+h, y, y])"
      ],
      "execution_count": 0,
      "outputs": [
        {
          "output_type": "stream",
          "text": [
            "/content/gdrive/My Drive/Colab Notebooks/Capstone Project/data/training_images/00436515-870c-4b36-a041-de91049b9ab4.jpg\n",
            "0 0.673828125 0.36962890625 0.25 0.4423828125\n",
            "\n",
            "0 0.673828125 0.36962890625 0.25 0.4423828125\n",
            "\n",
            "0 0.36181640625 0.33349609375 0.2080078125 0.3701171875\n",
            "\n"
          ],
          "name": "stdout"
        },
        {
          "output_type": "display_data",
          "data": {
            "image/png": "[encoded data removed]",
            "text/plain": [
              "<Figure size 432x288 with 1 Axes>"
            ]
          },
          "metadata": {
            "tags": []
          }
        }
      ]
    },
    {
      "cell_type": "code",
      "metadata": {
        "id": "snB6xKDKRmjy",
        "colab_type": "code",
        "colab": {}
      },
      "source": [
        ""
      ],
      "execution_count": 0,
      "outputs": []
    }
  ]
}